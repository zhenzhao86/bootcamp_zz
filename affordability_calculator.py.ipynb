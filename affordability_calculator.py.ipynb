{
 "cells": [
  {
   "cell_type": "code",
   "execution_count": null,
   "metadata": {},
   "outputs": [],
   "source": [
    "import streamlit as st\n",
    "import pandas as pd\n",
    "\n",
    "def affordability_calculator():\n",
    "    st.title(\"HDB Resale Housing Affordability Calculator\")\n",
    "    \n",
    "    # Collect user inputs\n",
    "    income = st.number_input(\"Enter your monthly household income\", min_value=0)\n",
    "    savings = st.number_input(\"Enter your total savings (CPF + cash)\", min_value=0)\n",
    "    debts = st.number_input(\"Enter your monthly debts (e.g., loans)\", min_value=0)\n",
    "    loan_tenure = st.number_input(\"Enter the loan tenure in years\", min_value=1, max_value=30)\n",
    "\n",
    "    # Assumed interest rate and loan eligibility\n",
    "    interest_rate = 0.025\n",
    "    max_loan = (income - debts) * 12 * loan_tenure * (1 - interest_rate)\n",
    "\n",
    "    # Affordable house price calculation\n",
    "    affordable_price = max_loan + savings\n",
    "    \n",
    "    # Show the result\n",
    "    if st.button(\"Calculate Affordability\"):\n",
    "        st.write(f\"Based on your inputs, you can afford an HDB resale flat worth approximately ${affordable_price:,.2f}.\")\n"
   ]
  }
 ],
 "metadata": {
  "kernelspec": {
   "display_name": "Python 3",
   "language": "python",
   "name": "python3"
  },
  "language_info": {
   "codemirror_mode": {
    "name": "ipython",
    "version": 3
   },
   "file_extension": ".py",
   "mimetype": "text/x-python",
   "name": "python",
   "nbconvert_exporter": "python",
   "pygments_lexer": "ipython3",
   "version": "3.8.5"
  }
 },
 "nbformat": 4,
 "nbformat_minor": 4
}
